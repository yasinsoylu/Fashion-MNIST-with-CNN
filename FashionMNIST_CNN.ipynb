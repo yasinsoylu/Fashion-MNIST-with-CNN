{
  "nbformat": 4,
  "nbformat_minor": 0,
  "metadata": {
    "colab": {
      "name": "FashionMNIST_CNN.ipynb",
      "provenance": [],
      "collapsed_sections": [],
      "authorship_tag": "ABX9TyNCWFCx13IW+ulkgpDOoWpa"
    },
    "kernelspec": {
      "name": "python3",
      "display_name": "Python 3"
    },
    "language_info": {
      "name": "python"
    }
  },
  "cells": [
    {
      "cell_type": "markdown",
      "metadata": {
        "id": "pdvqNHTH0YkM"
      },
      "source": [
        "# **İlgili Kütüphanelerin ve Araçların Eklenmesi**"
      ]
    },
    {
      "cell_type": "code",
      "metadata": {
        "id": "LIHc8Do8m09X"
      },
      "source": [
        "import numpy as np\n",
        "from tensorflow import keras\n",
        "from tensorflow.keras.models import Model, Sequential\n",
        "from tensorflow.keras.layers import Dense, Dropout, Flatten, Conv2D, MaxPool2D, Input\n",
        "from tensorflow.keras.datasets import fashion_mnist # Dataset hazır olarak Keras'ta bulunmaktadır.\n",
        "from tensorflow.keras.utils import to_categorical"
      ],
      "execution_count": null,
      "outputs": []
    },
    {
      "cell_type": "markdown",
      "metadata": {
        "id": "JFh1ggWqsSAM"
      },
      "source": [
        "Yapılacak ilk işlem veri setinin yüklenmesi olacaktır. Veri seti incelendiği zaman kendisi 60.000 eğitim 10.000 test verisine sahip şekilde bölünmüştür. İçerisinde bulunan veriler ise 28x28 boyutundadır."
      ]
    },
    {
      "cell_type": "markdown",
      "metadata": {
        "id": "nRkbjXJFuji2"
      },
      "source": [
        "### **Piksel Değerlerinin Normalleştirilmesi**\n",
        "\n",
        "Görüntü verilerimizi için pixel değerleri 0-255 aralığındadır. Ancak sinir ağları küçük ağırlık değerleri kullanarak girdileri işler ve büyük tamsayı değerlerine sahip girdiler öğrenme sürecini bozabilir veya yavaşlatabilir. Bu nedenle, her piksel değeri 0 ile 1 arasında bir değere sahip olacak şekilde piksel değerlerini normalleştirmek daha optimal sonucu sunmaktadır."
      ]
    },
    {
      "cell_type": "code",
      "metadata": {
        "colab": {
          "base_uri": "https://localhost:8080/"
        },
        "id": "7Clj8Mwsri-m",
        "outputId": "cdd4d616-b881-4389-8913-c3ef71d04209"
      },
      "source": [
        "(x_train, y_train), (x_test, y_test) = fashion_mnist.load_data(); # Dataset yüklemesi yapılır.\n",
        "\n",
        "x_train = x_train.astype('float32') / 255.0 # Normalleştirme\n",
        "x_test = x_test.astype('float32') / 255.0 # Normalleştirme\n",
        "\n",
        "print('Train Seti (Veri Sayısı, Yükseklik, Genişlik) => ',x_train.shape) \n",
        "print('Test Verileri (Veri Sayısı, Yükseklik, Genişlik) => ',x_test.shape)"
      ],
      "execution_count": null,
      "outputs": [
        {
          "output_type": "stream",
          "name": "stdout",
          "text": [
            "Train Seti (Veri Sayısı, Yükseklik, Genişlik) =>  (60000, 28, 28)\n",
            "Test Verileri (Veri Sayısı, Yükseklik, Genişlik) =>  (10000, 28, 28)\n"
          ]
        }
      ]
    },
    {
      "cell_type": "markdown",
      "metadata": {
        "id": "P-1eWD2sxOJW"
      },
      "source": [
        "### **Veriyi İşleme**\n",
        "\n",
        "Normalde verisetinin kendi özelliği olan 28x28 görüntü pixel sayısını 28x28x1 olarak yeniden düzenliyoruz. Bu gereklidir çünkü görüntülerimiz renkli olsaydı 28x28x3 şeklinde olması gerekiyordu (RGB = Kırmızı Yeşil Mavi). Ancak görüntülerimiz gri tonlamalı olduğundan, sonına bir boyut eklememiz gerekmektedir. Bu sonuç doğrultusunda 28x28x1 olarak dizayn edilmiştir. "
      ]
    },
    {
      "cell_type": "code",
      "metadata": {
        "id": "Lwt4GCbBsjje"
      },
      "source": [
        "input_shape = (x_train.shape[1:] + (1,)) # x_train.shape[1:] = (28, 28) => + (1,) => (28, 28, 1)    \n",
        "num_classes = len(np.unique(y_train)) # 10 adet sınıfımız mevcuttur."
      ],
      "execution_count": null,
      "outputs": []
    },
    {
      "cell_type": "markdown",
      "metadata": {
        "id": "VFtIRqS1xAcV"
      },
      "source": [
        "10 adet sınıfımız mevcuttur. np.unique(y_train) metodu ile eşsiz olan sınıflar belirlenir ve bunlar da aşağıdakilerdir;\n",
        "\n",
        "0-) T-shirt/top \n",
        "\n",
        "1-) Trouser \n",
        "\n",
        "2-) Pullover \n",
        "\n",
        "3-) Dress \n",
        "\n",
        "4-) Coat \n",
        "\n",
        "5-) Sandal \n",
        "\n",
        "6-) Shirt \n",
        "\n",
        "7-) Sneaker \n",
        "\n",
        "8-) Bag \n",
        "\n",
        "9-) Ankle boot"
      ]
    },
    {
      "cell_type": "markdown",
      "metadata": {
        "id": "_Io5Y-2SzG5G"
      },
      "source": [
        "### **Veri Dizilerinin Eşitlenmesi**\n",
        "\n",
        "Farklı katagorileri temsil eden tamsayılara sahip bir sınıf vektörünün ikili sınıf matrisine dönüştürülmesi ve eşit sütunlara sahip olması amacıyla ***to_categorical*** kullanılmaktadır. "
      ]
    },
    {
      "cell_type": "code",
      "metadata": {
        "id": "k5Ak4l3LvxId"
      },
      "source": [
        "y_train = to_categorical(y_train, num_classes)\n",
        "y_test = to_categorical(y_test, num_classes)"
      ],
      "execution_count": null,
      "outputs": []
    },
    {
      "cell_type": "markdown",
      "metadata": {
        "id": "fP4rt8XB0Pv8"
      },
      "source": [
        "## **Model Oluşturmak**\n",
        "\n",
        "İlk olarak bir girdi alan ve bu girdi sonucu çıktı üreten bir 28x28x1 girdi katmanı oluşturulur.\n",
        "\n",
        "1.Conv Katmanı => Oluşturulmuş girdi katmanından gelen çıktıyı alıp filtreleyen bir Conv2D katmanı oluşturulur. Bu katmanın girdisi input katmanının çıktısıdır. 28x28x1 gelen veri 26x26x32 olarak çıkar. Yükseklik ve genişliğin düşmesinin sebebi ise **padding** işleminin uygulanmasıdır. Derinliğin ise 32 olarak çıkmasının sebebebi 32 filtrenin uygulanmasıdır. Her bir uygulanan filtre beraberinde bir tensör (vektör/matris genellemesi) üretecektir. Bu durumda 32 tane uygulanan filtre sonucu 32 adet üretilen tensör, 3.eksen boyunca yerleşerek 26x26x32'lik bir çıktı oluşturmaktadır.\n",
        "\n",
        "2.Conv Katmanı => Aynı çalışma mantığı ile tekrar filtrelenen katman 64 derinliğe sahip olur. Padding işleminden geçen 26x26 lık veri 24x24'lük veri haline gelmektedir.\n",
        "\n",
        "3.MaxPooling2D => 2x2 büyüklüğünde bir filtre oluşturulur. Bu alan içerisindeki en büyük değer alınarak sinir ağının doğru karar vermesi için yeterli bilgiyi içeren ve boyut olarak küçülen bir çıktıya sahip olur.\n",
        "\n",
        "4.Dropout Katmanı => Bırakma, eğitim aşamasının her güncellemesinde gizli birimlerin giden kenarlarını rastgele olarak 0'a ayarlayarak çalışır böylece modelin fazla takılmasını önler.\n",
        "Bırakma, belirli bir nöron için çıktıyı rasgele 0'a ayarlayarak bir modelin genellenmesine yardımcı olabilir. Çıktıyı 0'a ayarlarken, maliyet işlevi, geri yayılma işlemi sırasında ağırlıkların güncellenme şeklini değiştirerek komşu nöronlara karşı daha duyarlı hale gelir.\n",
        "\n",
        "5.Flatten Katmanı => Çok boyutlu bir matris verisini sinir ağına sokamayız. Bu nedenle tek boyutlu olacak şekilde Düzleştirme(Flattening) işlemi yapılır.\n",
        "\n",
        "6.Dense Katmanı => Bu “fully connected layer” olarak da biliniyor. Yani bu katmanın bütün girişleri ve bütün çıkışları birbirine bağlı ve her birinin ayrı bir weighti var.\n",
        "\n",
        "7.Son Dense Katmanı => 10 tane çıkışı olan fully connected katman eklemesi. Aktivasyon fonksiyonu olarak Softmax seçilmiştir. Sigmoid fonksiyonu gibi ikiden fazla sınıflandırmanın yapılacağı durumlarda kullanılmaktadır. Derin öğrenme modellerinin çıkış katmanında tercih edilmektedir. Girdinin belirli bir sınıfa ait olma olasılığını 0-1 aralığında değerler üreterek belirlenmesini sağlamaktadır.\n",
        "\n",
        "ReLu hız bakımından avantajlı olacaktır. Genellikle çıkış değil ara katmanlarda kullanılır. Çıkış katmanlarında ise Softmax kullanımı optimal performans için tavsiye edilmektedir.\n"
      ]
    },
    {
      "cell_type": "code",
      "metadata": {
        "id": "utj9g5gUwP8U"
      },
      "source": [
        "inp = Input(shape=input_shape)                                     # Bir girdi alan ve bir çıktısı olan 28x28x1 girdi katmanıdır.\n",
        "_ = Conv2D(filters=32, kernel_size=(3, 3), activation='relu')(inp) # Bu katmanın girdisi, inputun çıktısıdır. 28x28x1 dizisi girer ve 26x26x32 dizisi çıkar.(Padding)\n",
        "_ = MaxPool2D(pool_size=(2, 2))(_)                                 # 2x2 boyutunda filtre ile pooling işlemi.\n",
        "_ = Conv2D(filters=64, kernel_size=(3, 3), activation='relu')(_)   # Önceki katmadandan gelen çıktı, 64 filtre ile uygulanır ve 24x24x64 dizisi çıkar. (26x26 Padding=> 24x24)\n",
        "_ = MaxPool2D(pool_size=(2, 2))(_)                                 # 2x2 boyutunda filtre ile pooling işlemi.\n",
        "_ = Dropout(0.25)(_)                                               # Kaybı azaltmak için yardımcı olur. \n",
        "_ = Flatten()(_)                                                   # Düzleştirme İşlemimiz.\n",
        "_ = Dense(units=128, activation='relu')(_)                         # Fully Connected Layer\n",
        "_ = Dropout(0.2)(_)                                                # Kaybı azaltmak için yardımcı olur. \n",
        "_ = Dense(units=num_classes, activation='softmax')(_)              # 10 Çıkışlı Fully Connected Layer.\n",
        "model = Model(inputs=inp, outputs=_)"
      ],
      "execution_count": null,
      "outputs": []
    },
    {
      "cell_type": "markdown",
      "metadata": {
        "id": "Pl9Z2sPw_lF3"
      },
      "source": [
        "## **Modelin Derlenmesi**\n",
        "\n",
        "Optimizer, öğrenme oranını kontrol eder. Optimizer olarak “adam” kullanıyoruz. Adam genellikle birçok durumda kullanmak için iyi bir optimizasyon algoritmasıdır. Adam algoritması, eğitim boyunca öğrenme oranını ayarlar. Faydaları aşağıdaki gibidir;\n",
        "\n",
        "-Uygulaması kolay.\n",
        "\n",
        "-Hesaplamalı olarak verimli.\n",
        "\n",
        "-Küçük bellek gereksinimleri.\n",
        "\n",
        "-Degradelerin değişmezden çapraza yeniden ölçeklenmesi.\n",
        "\n",
        "-Veri ve/veya parametreler açısından büyük olan problemler için çok uygundur.\n",
        "\n",
        "-Durağan olmayan amaçlar için uygundur.\n",
        "\n",
        "-Çok gürültülü/veya seyrek eğimli problemler için uygundur.\n",
        "\n",
        "-Hiper-parametrelerin sezgisel yorumu vardır ve genellikle çok az ayarlama gerektirir.\n",
        "\n",
        "Loss, Kayıp fonksiyonu, tahmin edilen bir değerin gerçek değerinden ne kadar uzak olduğunu ölçer. Bu derlenme aşaması için categorical_crossentropy kullanılmıştır."
      ]
    },
    {
      "cell_type": "code",
      "metadata": {
        "id": "g-1XPGaL0sQc"
      },
      "source": [
        "model.compile(loss=keras.losses.categorical_crossentropy,\n",
        "              optimizer=keras.optimizers.Adam(), \n",
        "              metrics=['accuracy']\n",
        "              )"
      ],
      "execution_count": null,
      "outputs": []
    },
    {
      "cell_type": "markdown",
      "metadata": {
        "id": "xTKjunc3AJ-r"
      },
      "source": [
        "## **Modelin Eğitilmesi**\n",
        "\n",
        "Modeli eğitme aşamasında, eğitim görüntülerini ve eğitim katmanlarını fit metoduna sokuyoruz. Epoch sayısını ise 12 olarak belirliyoruz ki model 12 iterasyon eğitilsin.\n",
        "\n",
        "Batch_Size değişkenini 128 olarak atanması ve eğitim sırasında modelin 128'er örnek ile çalışması. İlk 128 veri bittikten sonra diğer 128 veriye geçer. 1-128, 129-256....\n",
        "\n",
        "Validation_Split değişkeni 0.3 olarak ayarlanmıştır yani burada modelimiz 60.000 verinin 42.000 verisi ile modelimizi eğitecektir. Kalan 18.000 veri ile test edecektir ve hatalarını düzeltecektir."
      ]
    },
    {
      "cell_type": "code",
      "metadata": {
        "colab": {
          "base_uri": "https://localhost:8080/"
        },
        "id": "OO2XW0G7ADJ7",
        "outputId": "2232e56d-fe9c-416b-8cc6-677ff536d577"
      },
      "source": [
        "Fit_Model = model.fit(np.expand_dims(x_train, -1), y_train, batch_size=128, epochs=12, validation_split=0.3)"
      ],
      "execution_count": null,
      "outputs": [
        {
          "output_type": "stream",
          "name": "stdout",
          "text": [
            "Epoch 1/12\n",
            "329/329 [==============================] - 110s 333ms/step - loss: 0.4900 - accuracy: 0.8256 - val_loss: 0.3439 - val_accuracy: 0.8739\n",
            "Epoch 2/12\n",
            "329/329 [==============================] - 108s 329ms/step - loss: 0.3095 - accuracy: 0.8880 - val_loss: 0.2693 - val_accuracy: 0.9031\n",
            "Epoch 3/12\n",
            "329/329 [==============================] - 109s 333ms/step - loss: 0.2559 - accuracy: 0.9070 - val_loss: 0.2442 - val_accuracy: 0.9087\n",
            "Epoch 4/12\n",
            "329/329 [==============================] - 109s 332ms/step - loss: 0.2249 - accuracy: 0.9162 - val_loss: 0.2318 - val_accuracy: 0.9169\n",
            "Epoch 5/12\n",
            "329/329 [==============================] - 109s 333ms/step - loss: 0.1939 - accuracy: 0.9275 - val_loss: 0.2182 - val_accuracy: 0.9232\n",
            "Epoch 6/12\n",
            "329/329 [==============================] - 108s 329ms/step - loss: 0.1703 - accuracy: 0.9359 - val_loss: 0.2209 - val_accuracy: 0.9211\n",
            "Epoch 7/12\n",
            "329/329 [==============================] - 109s 331ms/step - loss: 0.1470 - accuracy: 0.9452 - val_loss: 0.2391 - val_accuracy: 0.9191\n",
            "Epoch 8/12\n",
            "329/329 [==============================] - 110s 334ms/step - loss: 0.1298 - accuracy: 0.9512 - val_loss: 0.2331 - val_accuracy: 0.9230\n",
            "Epoch 9/12\n",
            "329/329 [==============================] - 110s 334ms/step - loss: 0.1153 - accuracy: 0.9564 - val_loss: 0.2214 - val_accuracy: 0.9291\n",
            "Epoch 10/12\n",
            "329/329 [==============================] - 109s 332ms/step - loss: 0.0992 - accuracy: 0.9630 - val_loss: 0.2485 - val_accuracy: 0.9224\n",
            "Epoch 11/12\n",
            "329/329 [==============================] - 109s 332ms/step - loss: 0.0888 - accuracy: 0.9666 - val_loss: 0.2408 - val_accuracy: 0.9259\n",
            "Epoch 12/12\n",
            "329/329 [==============================] - 109s 331ms/step - loss: 0.0787 - accuracy: 0.9710 - val_loss: 0.2794 - val_accuracy: 0.9223\n"
          ]
        }
      ]
    },
    {
      "cell_type": "markdown",
      "metadata": {
        "id": "3In4n4AsMcpB"
      },
      "source": [
        "model.evaluate () – model.compile () adımında belirtilen kayıp ve metrikleri bulur. Hem test verilerini hem de etiketleri girdi olarak alır ve doğruluğun nicel bir ölçüsünü verir. Çapraz doğrulama yapmak ve en iyi modeli elde etmek için parametreleri daha ince ayar yapmak için de kullanılabilir."
      ]
    },
    {
      "cell_type": "code",
      "metadata": {
        "colab": {
          "base_uri": "https://localhost:8080/"
        },
        "id": "V58hALRqAa6c",
        "outputId": "065ccbb5-2544-4751-8e61-586864e83021"
      },
      "source": [
        "loss, accuracy = model.evaluate(np.expand_dims(x_test, -1), y_test, verbose=0)\n",
        "print(\"Modelin Kaybı => \",loss)\n",
        "print('Modelin Doğruluk Oranı => ',accuracy )"
      ],
      "execution_count": null,
      "outputs": [
        {
          "output_type": "stream",
          "name": "stdout",
          "text": [
            "Modelin Kaybı =>  0.307476282119751\n",
            "Modelin Doğruluk Oranı =>  0.9132999777793884\n"
          ]
        }
      ]
    },
    {
      "cell_type": "code",
      "metadata": {
        "colab": {
          "base_uri": "https://localhost:8080/",
          "height": 337
        },
        "id": "hs4i6Nl5Gv1P",
        "outputId": "2eaf84dc-a3db-4745-c1a3-5224343529c0"
      },
      "source": [
        "import matplotlib.pyplot as plt\n",
        "%matplotlib inline\n",
        "\n",
        "fig, (ax1, ax2) = plt.subplots(nrows=1, ncols=2, figsize=(14, 5))\n",
        "ax1.plot(Fit_Model.history['loss'], label='Train Loss')\n",
        "ax1.plot(Fit_Model.history['val_loss'], label='Val Loss')\n",
        "ax1.legend()\n",
        "ax2.plot(Fit_Model.history['accuracy'], label='Train Accuracy')\n",
        "ax2.plot(Fit_Model.history['val_accuracy'], label='Val Accuracy')\n",
        "ax2.legend()"
      ],
      "execution_count": null,
      "outputs": [
        {
          "output_type": "execute_result",
          "data": {
            "text/plain": [
              "<matplotlib.legend.Legend at 0x7f1053c5ed90>"
            ]
          },
          "metadata": {},
          "execution_count": 58
        },
        {
          "output_type": "display_data",
          "data": {
            "image/png": "[encoded data removed]",
            "text/plain": [
              "<Figure size 1008x360 with 2 Axes>"
            ]
          },
          "metadata": {
            "needs_background": "light"
          }
        }
      ]
    },
    {
      "cell_type": "code",
      "metadata": {
        "id": "uFvGfrZQgetH"
      },
      "source": [
        ""
      ],
      "execution_count": null,
      "outputs": []
    }
  ]
}